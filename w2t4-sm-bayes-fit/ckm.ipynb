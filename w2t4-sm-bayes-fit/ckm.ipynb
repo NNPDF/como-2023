{
 "cells": [
  {
   "cell_type": "markdown",
   "id": "7025788f-ec57-47e1-a2ea-e0276aa5a962",
   "metadata": {},
   "source": [
    "# UT analysis and determination of CKM parameters"
   ]
  },
  {
   "cell_type": "code",
   "execution_count": 1,
   "id": "d0a02e49-b0e2-4904-9f12-ee012181ff2b",
   "metadata": {},
   "outputs": [],
   "source": [
    "import arviz as az\n",
    "import numpy as np\n",
    "import pymc as pm\n",
    "import pytensor.tensor as at\n",
    "\n",
    "az.style.use(\"arviz-darkgrid\")"
   ]
  },
  {
   "cell_type": "code",
   "execution_count": 2,
   "id": "ed0d68f7-314e-4175-82d3-54827660425c",
   "metadata": {},
   "outputs": [],
   "source": [
    "with pm.Model() as model:\n",
    "    a = pm.Normal(\"a\", mu=0, sigma=100)\n",
    "    lamda = pm.Exponential(\"lamda\", scale=1)\n",
    "    rho = pm.Exponential(\"rho\", scale=1)\n",
    "    eta = pm.Exponential(\"eta\", scale=1)"
   ]
  },
  {
   "cell_type": "code",
   "execution_count": 3,
   "id": "88e22261-4d5e-4474-913c-75c4aa8f363d",
   "metadata": {},
   "outputs": [],
   "source": [
    "deg_to_rad = 2*np.pi/360\n",
    "with model:\n",
    "    vub0 = a * lamda ** 3 * pm.math.sqrt(rho ** 2 + eta ** 2)\n",
    "    vcb0 = a * lamda ** 2\n",
    "    beta0 = at.arctan(eta / (1 - rho))\n",
    "    gamma0 = at.arctan(eta / rho)\n",
    "    alpha0 = np.pi - gamma0 - beta0\n",
    "    \n",
    "    \n",
    "    vub = pm.Normal(\"vub\", mu=vub0, sigma=0.00023, observed=0.00372)\n",
    "    vcb = pm.Normal(\"vcb\", mu=vcb0, sigma=0.0011, observed=0.0405)\n",
    "    lamda_obs = pm.Normal(\"lambda_obs\", mu=lamda, sigma=0.00089, observed=0.22574)\n",
    "    gamma =  pm.Normal(\"gamma\", mu=gamma0, sigma=700*deg_to_rad, observed=4.2*deg_to_rad)\n",
    "    sin2beta =  pm.Normal(\"sin2beta\", mu=at.sin(2*beta0), sigma=0.689, observed=0.018)\n",
    "    alpha =  pm.Normal(\"alpha\", mu=alpha0, sigma=93*deg_to_rad, observed=6*deg_to_rad)"
   ]
  },
  {
   "cell_type": "code",
   "execution_count": null,
   "id": "34616f72-74da-473c-a20f-883eb441aa43",
   "metadata": {},
   "outputs": [
    {
     "name": "stderr",
     "output_type": "stream",
     "text": [
      "Auto-assigning NUTS sampler...\n",
      "Initializing NUTS using jitter+adapt_diag...\n",
      "Multiprocess sampling (4 chains in 4 jobs)\n",
      "NUTS: [a, lamda, rho, eta]\n"
     ]
    },
    {
     "data": {
      "text/html": [
       "\n",
       "<style>\n",
       "    /* Turns off some styling */\n",
       "    progress {\n",
       "        /* gets rid of default border in Firefox and Opera. */\n",
       "        border: none;\n",
       "        /* Needs to be in here for Safari polyfill so background images work as expected. */\n",
       "        background-size: auto;\n",
       "    }\n",
       "    progress:not([value]), progress:not([value])::-webkit-progress-bar {\n",
       "        background: repeating-linear-gradient(45deg, #7e7e7e, #7e7e7e 10px, #5c5c5c 10px, #5c5c5c 20px);\n",
       "    }\n",
       "    .progress-bar-interrupted, .progress-bar-interrupted::-webkit-progress-bar {\n",
       "        background: #F44336;\n",
       "    }\n",
       "</style>\n"
      ],
      "text/plain": [
       "<IPython.core.display.HTML object>"
      ]
     },
     "metadata": {},
     "output_type": "display_data"
    },
    {
     "data": {
      "text/html": [
       "\n",
       "    <div>\n",
       "      <progress value='3958' class='' max='8000' style='width:300px; height:20px; vertical-align: middle;'></progress>\n",
       "      49.48% [3958/8000 00:02&lt;00:02 Sampling 4 chains, 21 divergences]\n",
       "    </div>\n",
       "    "
      ],
      "text/plain": [
       "<IPython.core.display.HTML object>"
      ]
     },
     "metadata": {},
     "output_type": "display_data"
    }
   ],
   "source": [
    "with model:\n",
    "    trace = pm.sample()"
   ]
  },
  {
   "cell_type": "code",
   "execution_count": null,
   "id": "7ab15736-86de-430a-855c-afc15639a393",
   "metadata": {},
   "outputs": [],
   "source": [
    "trace"
   ]
  },
  {
   "cell_type": "code",
   "execution_count": null,
   "id": "5be09974-60ab-4bad-aa6b-2e703cc9521a",
   "metadata": {},
   "outputs": [],
   "source": [
    "az.plot_trace(trace, combined=True);"
   ]
  }
 ],
 "metadata": {
  "kernelspec": {
   "display_name": "Python 3 (ipykernel)",
   "language": "python",
   "name": "python3"
  },
  "language_info": {
   "codemirror_mode": {
    "name": "ipython",
    "version": 3
   },
   "file_extension": ".py",
   "mimetype": "text/x-python",
   "name": "python",
   "nbconvert_exporter": "python",
   "pygments_lexer": "ipython3",
   "version": "3.11.4"
  }
 },
 "nbformat": 4,
 "nbformat_minor": 5
}
